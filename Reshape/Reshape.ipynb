{
 "cells": [
  {
   "cell_type": "code",
   "execution_count": 5,
   "id": "368114a5-3c57-438c-a69c-3e41e3e76b27",
   "metadata": {},
   "outputs": [],
   "source": [
    "import numpy as np\n",
    "import pandas as pd"
   ]
  },
  {
   "cell_type": "code",
   "execution_count": 6,
   "id": "d93baefc-c119-4176-9e58-aac00e0ce03e",
   "metadata": {},
   "outputs": [
    {
     "name": "stdout",
     "output_type": "stream",
     "text": [
      "[[1 2]\n",
      " [1 2]]\n",
      "\n",
      "(2, 2)\n"
     ]
    }
   ],
   "source": [
    "var = np.array([[1,2],[1,2]])\n",
    "print(var)\n",
    "print()\n",
    "print(var.shape)"
   ]
  },
  {
   "cell_type": "code",
   "execution_count": 9,
   "id": "59fe0cbd-fefc-4547-850a-95dbfc5b01ec",
   "metadata": {},
   "outputs": [
    {
     "name": "stdout",
     "output_type": "stream",
     "text": [
      "[[[[1 2 3 4]]]]\n",
      "4\n",
      "\n",
      "<built-in method reshape of numpy.ndarray object at 0x000001E63F7B2910>\n"
     ]
    }
   ],
   "source": [
    "var1 = np.array([1,2,3,4],ndmin=4)\n",
    "print(var1)\n",
    "print(var1.ndim)\n",
    "print()\n",
    "print(var1.reshape)\n",
    "\n"
   ]
  },
  {
   "cell_type": "code",
   "execution_count": 14,
   "id": "e608b24d-4889-4e25-984b-a9de8e9fe92c",
   "metadata": {},
   "outputs": [
    {
     "name": "stdout",
     "output_type": "stream",
     "text": [
      "[1 2 3 4 5 6]\n",
      "[[1 2]\n",
      " [3 4]\n",
      " [5 6]]\n",
      "1\n"
     ]
    }
   ],
   "source": [
    "var2 = np.array([1,2,3,4,5,6])\n",
    "print(var2)\n",
    "x= var2.reshape(3,2)\n",
    "print(x)\n",
    "print(var2.ndim)"
   ]
  },
  {
   "cell_type": "code",
   "execution_count": 15,
   "id": "8e949225-7af9-4613-81dd-beda1ba83e36",
   "metadata": {},
   "outputs": [
    {
     "name": "stdout",
     "output_type": "stream",
     "text": [
      "[1 2 3 4 5 6 1 2 3]\n",
      "[[1 2 3]\n",
      " [4 5 6]\n",
      " [1 2 3]]\n",
      "1\n"
     ]
    }
   ],
   "source": [
    "var2 = np.array([1,2,3,4,5,6,1,2,3])\n",
    "print(var2)\n",
    "x= var2.reshape(3,3)\n",
    "print(x)\n",
    "print(var2.ndim)"
   ]
  },
  {
   "cell_type": "code",
   "execution_count": 18,
   "id": "c2f14c41-e07b-49b5-8a76-1c0fe996143a",
   "metadata": {},
   "outputs": [
    {
     "name": "stdout",
     "output_type": "stream",
     "text": [
      "[[[1 2 3 4]\n",
      "  [5 6 1 2]\n",
      "  [3 1 2 3]]]\n",
      "[[[1 2 3]\n",
      "  [4 5 6]]\n",
      "\n",
      " [[1 2 3]\n",
      "  [1 2 3]]]\n",
      "3\n"
     ]
    }
   ],
   "source": [
    "var3 = np.array([[[1,2,3,4],[5,6,1,2],[3,1,2,3]]])\n",
    "print(var3)\n",
    "x= var3.reshape(2,2,3)\n",
    "print(x)\n",
    "print(var3.ndim)"
   ]
  },
  {
   "cell_type": "code",
   "execution_count": 21,
   "id": "3c8a056a-927c-4596-b388-f2ed30c09970",
   "metadata": {},
   "outputs": [
    {
     "name": "stdout",
     "output_type": "stream",
     "text": [
      "[1 2 3 4 5 6 1 2 3 5 3 2]\n",
      "1\n",
      "[[[1 2]\n",
      "  [3 4]\n",
      "  [5 6]]\n",
      "\n",
      " [[1 2]\n",
      "  [3 5]\n",
      "  [3 2]]]\n",
      "1\n",
      "[1 2 3 4 5 6 1 2 3 5 3 2]\n",
      "1\n"
     ]
    }
   ],
   "source": [
    "var2 = np.array([1,2,3,4,5,6,1,2,3,5,3,2])\n",
    "print(var2)\n",
    "print(var2.ndim)\n",
    "x= var2.reshape(2,3,2)\n",
    "print(x)\n",
    "print(var2.ndim)\n",
    "one = x.reshape(-1)\n",
    "print(one)\n",
    "print(one.ndim)"
   ]
  },
  {
   "cell_type": "code",
   "execution_count": null,
   "id": "c78c2f01-3d8d-46f2-9e6e-cbb3837cffc5",
   "metadata": {},
   "outputs": [],
   "source": []
  }
 ],
 "metadata": {
  "kernelspec": {
   "display_name": "Python 3 (ipykernel)",
   "language": "python",
   "name": "python3"
  },
  "language_info": {
   "codemirror_mode": {
    "name": "ipython",
    "version": 3
   },
   "file_extension": ".py",
   "mimetype": "text/x-python",
   "name": "python",
   "nbconvert_exporter": "python",
   "pygments_lexer": "ipython3",
   "version": "3.13.0"
  }
 },
 "nbformat": 4,
 "nbformat_minor": 5
}
