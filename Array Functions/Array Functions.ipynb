{
 "cells": [
  {
   "cell_type": "code",
   "execution_count": 1,
   "id": "d623d6cf-588c-43b3-a8c3-b40cadd3a6c7",
   "metadata": {},
   "outputs": [],
   "source": [
    "import pandas as pd\n",
    "import numpy as np"
   ]
  },
  {
   "cell_type": "code",
   "execution_count": 2,
   "id": "cf5f7468-345c-4d36-801d-7f7555de3213",
   "metadata": {},
   "outputs": [
    {
     "name": "stdout",
     "output_type": "stream",
     "text": [
      "(array([1, 4, 6]),)\n"
     ]
    }
   ],
   "source": [
    "var = np.array([1,2,3,4,2,5,2,5,6,7])\n",
    "x = np.where(var == 2)\n",
    "print(x)"
   ]
  },
  {
   "cell_type": "code",
   "execution_count": 5,
   "id": "6a836845-92ae-47ef-9008-cfd329b015c3",
   "metadata": {},
   "outputs": [
    {
     "name": "stdout",
     "output_type": "stream",
     "text": [
      "(array([], dtype=int64),)\n"
     ]
    }
   ],
   "source": [
    "var = np.array([1,2,3,4,2,5,2,5,6,7])\n",
    "\n",
    "x = np.where((var/2) == 0)\n",
    "\n",
    "print(x)"
   ]
  },
  {
   "cell_type": "code",
   "execution_count": 6,
   "id": "c329ea91-9ab0-46c0-a035-948f392e1049",
   "metadata": {},
   "outputs": [
    {
     "name": "stdout",
     "output_type": "stream",
     "text": [
      "(array([1, 3, 4, 6, 8]),)\n"
     ]
    }
   ],
   "source": [
    "var = np.array([1,2,3,4,2,5,2,5,6,7])\n",
    "\n",
    "x = np.where((var%2) == 0)\n",
    "\n",
    "print(x)"
   ]
  },
  {
   "cell_type": "code",
   "execution_count": 7,
   "id": "76a94791-f6eb-42f4-a7bd-45b2d75e3370",
   "metadata": {},
   "outputs": [
    {
     "name": "stdout",
     "output_type": "stream",
     "text": [
      "4\n"
     ]
    }
   ],
   "source": [
    "var1 = np.array([1,2,3,4,6,7,8])\n",
    "\n",
    "x = np.searchsorted(var1,5)\n",
    "\n",
    "print(x)"
   ]
  },
  {
   "cell_type": "code",
   "execution_count": 8,
   "id": "7544360c-7901-4a33-af15-cbe23a1cb164",
   "metadata": {},
   "outputs": [
    {
     "name": "stdout",
     "output_type": "stream",
     "text": [
      "[4 5 6]\n"
     ]
    }
   ],
   "source": [
    "var1 = np.array([1,2,3,4,6,7,8])\n",
    "\n",
    "x = np.searchsorted(var1,[5,6,7],side=\"right\")\n",
    "\n",
    "print(x)"
   ]
  },
  {
   "cell_type": "code",
   "execution_count": 9,
   "id": "d317af39-22c4-4bfb-9dcd-d013caebd9a8",
   "metadata": {},
   "outputs": [
    {
     "name": "stdout",
     "output_type": "stream",
     "text": [
      "[ 1  2  2  3  4  5  7 12 52 68]\n"
     ]
    }
   ],
   "source": [
    "var = np.array([1,2,3,4,12,52,2,5,68,7])\n",
    "\n",
    "print(np.sort(var))\n",
    "\n"
   ]
  },
  {
   "cell_type": "code",
   "execution_count": 11,
   "id": "adb85bf0-5106-40f9-9ada-8fd460537ca2",
   "metadata": {},
   "outputs": [
    {
     "name": "stdout",
     "output_type": "stream",
     "text": [
      "['a' 'd' 'f' 's']\n"
     ]
    }
   ],
   "source": [
    "var_2 = np.array(['a','s','d','f'])\n",
    "\n",
    "print(np.sort(var_2))"
   ]
  },
  {
   "cell_type": "code",
   "execution_count": 12,
   "id": "73e9b32d-ef55-47f7-8887-c53db163a2a3",
   "metadata": {},
   "outputs": [
    {
     "name": "stdout",
     "output_type": "stream",
     "text": [
      "[[ 1  2  3]\n",
      " [ 4 12 52]\n",
      " [ 2  5 68]]\n"
     ]
    }
   ],
   "source": [
    "var = np.array([[1,2,3],[4,12,52],[2,5,68]])\n",
    "\n",
    "print(np.sort(var))"
   ]
  },
  {
   "cell_type": "markdown",
   "id": "470a8411-0cc0-45a6-9be5-854513dde7af",
   "metadata": {},
   "source": [
    " # Filter Array"
   ]
  },
  {
   "cell_type": "code",
   "execution_count": 15,
   "id": "e5e9cbd4-4501-4ec7-9893-07aa0278a2ae",
   "metadata": {},
   "outputs": [
    {
     "name": "stdout",
     "output_type": "stream",
     "text": [
      "['a' 'd']\n",
      "<class 'numpy.ndarray'>\n"
     ]
    }
   ],
   "source": [
    "var_3 = np.array(['a','s','d','f'])\n",
    "f = [True,False,True,False]\n",
    "new_A = var_3[f]\n",
    "print(new_A)\n",
    "print(type(new_A))\n"
   ]
  },
  {
   "cell_type": "code",
   "execution_count": 16,
   "id": "72be56c8-6fd0-44c3-b8cc-26c592d7c105",
   "metadata": {},
   "outputs": [
    {
     "name": "stdout",
     "output_type": "stream",
     "text": [
      "[1 2 3 4]\n"
     ]
    }
   ],
   "source": [
    "var = np.array([1,2,3,4])\n",
    "\n",
    "np.random.shuffle(var)\n",
    "\n",
    "print(var)"
   ]
  },
  {
   "cell_type": "code",
   "execution_count": 17,
   "id": "9751d84e-6e13-48b0-b4b9-fe12ec35184e",
   "metadata": {},
   "outputs": [
    {
     "name": "stdout",
     "output_type": "stream",
     "text": [
      "[1 2 3 4 6 7 8]\n"
     ]
    }
   ],
   "source": [
    "var_1 = np.array([1,2,3,4,2,5,2,6,2,7])\n",
    "x  = np.unique(var1)\n",
    "print(x)"
   ]
  },
  {
   "cell_type": "code",
   "execution_count": 18,
   "id": "01ef3432-8433-4c8f-9388-07b375a7d673",
   "metadata": {},
   "outputs": [
    {
     "name": "stdout",
     "output_type": "stream",
     "text": [
      "(array([1, 2, 3, 4, 6, 7, 8]), array([0, 1, 2, 3, 4, 5, 6]))\n"
     ]
    }
   ],
   "source": [
    "var_1 = np.array([1,2,3,4,2,5,2,6,2,7])\n",
    "x  = np.unique(var1,return_index=True)\n",
    "print(x)"
   ]
  },
  {
   "cell_type": "code",
   "execution_count": 19,
   "id": "72287ef6-8ab0-4378-8371-8c831043e11e",
   "metadata": {},
   "outputs": [
    {
     "name": "stdout",
     "output_type": "stream",
     "text": [
      "(array([1, 2, 3, 4, 6, 7, 8]), array([0, 1, 2, 3, 4, 5, 6]), array([1, 1, 1, 1, 1, 1, 1]))\n"
     ]
    }
   ],
   "source": [
    "var_1 = np.array([1,2,3,4,2,5,2,6,2,7])\n",
    "x  = np.unique(var1,return_index=True,return_counts=True)\n",
    "print(x)"
   ]
  },
  {
   "cell_type": "code",
   "execution_count": 22,
   "id": "766d7071-d5ae-4f33-b276-9e3eca8a0dcd",
   "metadata": {},
   "outputs": [
    {
     "name": "stdout",
     "output_type": "stream",
     "text": [
      "[[1 2 3]\n",
      " [4 5 6]]\n"
     ]
    }
   ],
   "source": [
    "var_2 = np.array([1,2,3,4,5,6])\n",
    "y = np.resize(var_2,(2,3))\n",
    "print(y)"
   ]
  },
  {
   "cell_type": "code",
   "execution_count": 23,
   "id": "48acc1cc-081c-4ba2-872e-1975bc572427",
   "metadata": {},
   "outputs": [
    {
     "name": "stdout",
     "output_type": "stream",
     "text": [
      "[[1 2]\n",
      " [3 4]\n",
      " [5 6]]\n"
     ]
    }
   ],
   "source": [
    "var_2 = np.array([1,2,3,4,5,6])\n",
    "y = np.resize(var_2,(3,2))\n",
    "print(y)"
   ]
  },
  {
   "cell_type": "code",
   "execution_count": 26,
   "id": "3b432fe4-b6f0-4076-8b4e-fb67344ecea4",
   "metadata": {},
   "outputs": [
    {
     "name": "stdout",
     "output_type": "stream",
     "text": [
      "[[1 2]\n",
      " [3 4]\n",
      " [5 6]]\n",
      "[1 2 3 4 5 6]\n"
     ]
    }
   ],
   "source": [
    "var_2 = np.array([1,2,3,4,5,6])\n",
    "y = np.resize(var_2,(3,2))\n",
    "print(y)\n",
    "print(y.flatten())"
   ]
  },
  {
   "cell_type": "code",
   "execution_count": 27,
   "id": "bd4824d8-33ce-43c5-ad69-7282c1598ff4",
   "metadata": {},
   "outputs": [
    {
     "name": "stdout",
     "output_type": "stream",
     "text": [
      "[[1 2]\n",
      " [3 4]\n",
      " [5 6]]\n",
      "[1 3 5 2 4 6]\n"
     ]
    }
   ],
   "source": [
    "var_2 = np.array([1,2,3,4,5,6])\n",
    "y = np.resize(var_2,(3,2))\n",
    "print(y)\n",
    "print(y.flatten(order=\"F\"))"
   ]
  },
  {
   "cell_type": "code",
   "execution_count": 28,
   "id": "72cf2ab1-bed6-4176-983d-d5f0ee9f395d",
   "metadata": {},
   "outputs": [
    {
     "name": "stdout",
     "output_type": "stream",
     "text": [
      "[[1 2]\n",
      " [3 4]\n",
      " [5 6]]\n",
      "[1 2 3 4 5 6]\n"
     ]
    }
   ],
   "source": [
    "var_2 = np.array([1,2,3,4,5,6])\n",
    "y = np.resize(var_2,(3,2))\n",
    "print(y)\n",
    "print(y.flatten(order=\"C\"))"
   ]
  },
  {
   "cell_type": "code",
   "execution_count": 30,
   "id": "1073bac2-c669-4393-baf5-073f2c2f96b3",
   "metadata": {},
   "outputs": [
    {
     "name": "stdout",
     "output_type": "stream",
     "text": [
      "[[1 2]\n",
      " [3 4]\n",
      " [5 6]]\n",
      "[1 2 3 4 5 6]\n"
     ]
    }
   ],
   "source": [
    "var_2 = np.array([1,2,3,4,5,6])\n",
    "y = np.resize(var_2,(3,2))\n",
    "print(y)\n",
    "print(y.flatten(order=\"A\"))"
   ]
  },
  {
   "cell_type": "code",
   "execution_count": 31,
   "id": "6f951c42-c60d-4682-9949-ebdf411688ed",
   "metadata": {},
   "outputs": [
    {
     "name": "stdout",
     "output_type": "stream",
     "text": [
      "[[1 2]\n",
      " [3 4]\n",
      " [5 6]]\n",
      "[1 2 3 4 5 6]\n"
     ]
    }
   ],
   "source": [
    "var_2 = np.array([1,2,3,4,5,6])\n",
    "y = np.resize(var_2,(3,2))\n",
    "print(y)\n",
    "print(y.flatten(order=\"K\"))"
   ]
  },
  {
   "cell_type": "code",
   "execution_count": 40,
   "id": "8fe1f86f-f9b5-45e2-82c4-e4a469b2d53a",
   "metadata": {},
   "outputs": [
    {
     "name": "stdout",
     "output_type": "stream",
     "text": [
      "[[1 2]\n",
      " [3 4]\n",
      " [5 6]]\n",
      "flatten: [1 3 5 2 4 6]\n",
      "Ravel: [1 2 3 4 5 6]\n"
     ]
    }
   ],
   "source": [
    "var_2 = np.array([1,2,3,4,5,6])\n",
    "y = np.resize(var_2,(3,2))\n",
    "print(y)\n",
    "print(\"flatten:\",y.flatten(order=\"F\"))\n",
    "print(\"Ravel:\",y.ravel(order=\"A\"))"
   ]
  },
  {
   "cell_type": "code",
   "execution_count": 41,
   "id": "bb8a1911-2671-48a0-a1d5-30fd314933f4",
   "metadata": {},
   "outputs": [],
   "source": [
    "# Insert"
   ]
  },
  {
   "cell_type": "code",
   "execution_count": 42,
   "id": "d8f4407a-a7ef-463c-8645-1e22c30c18ec",
   "metadata": {},
   "outputs": [
    {
     "name": "stdout",
     "output_type": "stream",
     "text": [
      "[1 2 3 4]\n",
      "int64\n"
     ]
    }
   ],
   "source": [
    "var = np.array([1,2,3,4])\n",
    "print(var)\n",
    "print(var.dtype)"
   ]
  },
  {
   "cell_type": "code",
   "execution_count": 44,
   "id": "d5973a91-8304-4b4b-b97c-a73ce78ad43e",
   "metadata": {},
   "outputs": [
    {
     "name": "stdout",
     "output_type": "stream",
     "text": [
      "[1 2 3 4]\n",
      "int64\n",
      "[ 1  2 14  3  4]\n"
     ]
    }
   ],
   "source": [
    "var = np.array([1,2,3,4])\n",
    "print(var)\n",
    "print(var.dtype)\n",
    "v=np.insert(var,2,14)\n",
    "print(v)"
   ]
  },
  {
   "cell_type": "code",
   "execution_count": 46,
   "id": "744f01e9-420d-4f07-8ba4-f26c771c2ea4",
   "metadata": {},
   "outputs": [
    {
     "name": "stdout",
     "output_type": "stream",
     "text": [
      "[1 2 3 4]\n",
      "int64\n",
      "[ 1  2 14  3 14  4]\n"
     ]
    }
   ],
   "source": [
    "var = np.array([1,2,3,4])\n",
    "print(var)\n",
    "print(var.dtype)\n",
    "v=np.insert(var,[2,3],14)\n",
    "print(v)"
   ]
  },
  {
   "cell_type": "code",
   "execution_count": 47,
   "id": "f88a5e04-13de-449c-9099-dad77c868d65",
   "metadata": {},
   "outputs": [
    {
     "name": "stdout",
     "output_type": "stream",
     "text": [
      "[1 2 3 4]\n",
      "int64\n",
      "[1 2 1 3 1 4]\n"
     ]
    }
   ],
   "source": [
    "var = np.array([1,2,3,4])\n",
    "print(var)\n",
    "print(var.dtype)\n",
    "v=np.insert(var,[2,3],1.4)\n",
    "print(v)"
   ]
  },
  {
   "cell_type": "code",
   "execution_count": 50,
   "id": "c2f9e37f-b6bb-4396-94e0-6aa4b8eff023",
   "metadata": {},
   "outputs": [
    {
     "name": "stdout",
     "output_type": "stream",
     "text": [
      "[[1 2 6 3]\n",
      " [1 2 6 3]]\n"
     ]
    }
   ],
   "source": [
    "var_1 = ([[1,2,3],[1,2,3]])\n",
    "v1=np.insert(var_1,2,6, axis=1)\n",
    "print(v1)"
   ]
  },
  {
   "cell_type": "code",
   "execution_count": 51,
   "id": "27c2da41-7f74-4d7b-a9ca-9011eb63a0f4",
   "metadata": {},
   "outputs": [
    {
     "name": "stdout",
     "output_type": "stream",
     "text": [
      "[[1 2 3]\n",
      " [1 2 3]\n",
      " [6 6 6]]\n"
     ]
    }
   ],
   "source": [
    "var_1 = ([[1,2,3],[1,2,3]])\n",
    "v1=np.insert(var_1,2,6, axis=0)\n",
    "print(v1)"
   ]
  },
  {
   "cell_type": "code",
   "execution_count": 55,
   "id": "bc96aac5-3c68-4da3-93b8-d540065e367d",
   "metadata": {},
   "outputs": [
    {
     "name": "stdout",
     "output_type": "stream",
     "text": [
      "[[1 2 3]\n",
      " [1 2 3]\n",
      " [6 2 5]]\n"
     ]
    }
   ],
   "source": [
    "var_1 = ([[1,2,3],[1,2,3]])\n",
    "v1=np.insert(var_1,2,[6,2,5], axis=0)\n",
    "print(v1)"
   ]
  },
  {
   "cell_type": "code",
   "execution_count": 61,
   "id": "bd44f552-df19-4985-b798-6e317c65551b",
   "metadata": {},
   "outputs": [
    {
     "name": "stdout",
     "output_type": "stream",
     "text": [
      "[1 2 3 4]\n",
      "[1.  2.  3.  4.  6.5]\n"
     ]
    }
   ],
   "source": [
    "var = np.array([1,2,3,4])\n",
    "print(var)\n",
    "x = np.append(var,6.5)\n",
    "print(x)"
   ]
  },
  {
   "cell_type": "code",
   "execution_count": 63,
   "id": "8bc54658-2e0c-4a2a-b091-024214b971dd",
   "metadata": {},
   "outputs": [
    {
     "name": "stdout",
     "output_type": "stream",
     "text": [
      "[[1 2 3]\n",
      " [1 2 3]]\n",
      "[[ 1  2  3]\n",
      " [ 1  2  3]\n",
      " [45 23 56]]\n"
     ]
    }
   ],
   "source": [
    "var = np.array([[1,2,3],[1,2,3]])\n",
    "print(var)\n",
    "x = np.append(var,[[45,23,56]],axis=0)\n",
    "print(x)"
   ]
  },
  {
   "cell_type": "code",
   "execution_count": 64,
   "id": "921a96e8-0ce1-49da-8d47-f05ed914eeb2",
   "metadata": {},
   "outputs": [
    {
     "name": "stdout",
     "output_type": "stream",
     "text": [
      "[1 2 3 4]\n",
      "[1 2 4]\n"
     ]
    }
   ],
   "source": [
    "var_1=np.array([1,2,3,4])\n",
    "print(var_1)\n",
    "d=np.delete(var_1,2)\n",
    "print(d)\n"
   ]
  },
  {
   "cell_type": "code",
   "execution_count": null,
   "id": "4421df66-e502-431b-8efb-1d9caea3d1c9",
   "metadata": {},
   "outputs": [],
   "source": []
  }
 ],
 "metadata": {
  "kernelspec": {
   "display_name": "Python 3 (ipykernel)",
   "language": "python",
   "name": "python3"
  },
  "language_info": {
   "codemirror_mode": {
    "name": "ipython",
    "version": 3
   },
   "file_extension": ".py",
   "mimetype": "text/x-python",
   "name": "python",
   "nbconvert_exporter": "python",
   "pygments_lexer": "ipython3",
   "version": "3.13.0"
  }
 },
 "nbformat": 4,
 "nbformat_minor": 5
}
