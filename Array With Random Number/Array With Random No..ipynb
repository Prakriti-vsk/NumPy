{
 "cells": [
  {
   "cell_type": "code",
   "execution_count": 1,
   "id": "88237a24-3634-4374-87db-ced80675f68b",
   "metadata": {},
   "outputs": [],
   "source": [
    "import pandas as pd\n",
    "import numpy as np\n"
   ]
  },
  {
   "cell_type": "code",
   "execution_count": 5,
   "id": "0117b35c-d661-4771-8f11-a03aa4eaeedb",
   "metadata": {},
   "outputs": [
    {
     "name": "stdout",
     "output_type": "stream",
     "text": [
      "[0.16746594 0.47958272 0.99275148 0.08938534]\n"
     ]
    }
   ],
   "source": [
    "var = np.random.rand(4)#between 0 to 1\n",
    "print(var)"
   ]
  },
  {
   "cell_type": "code",
   "execution_count": 7,
   "id": "b2c9f795-9875-426e-8812-2cfd4de88e23",
   "metadata": {},
   "outputs": [
    {
     "data": {
      "text/plain": [
       "array([[0.27410103, 0.28918245, 0.94643194, 0.02075305, 0.17385486],\n",
       "       [0.35772022, 0.89602868, 0.44332777, 0.81204283, 0.4047764 ]])"
      ]
     },
     "execution_count": 7,
     "metadata": {},
     "output_type": "execute_result"
    }
   ],
   "source": [
    "var1 = np.random.rand(2,5)#close to 0 generator\n",
    "var1"
   ]
  },
  {
   "cell_type": "code",
   "execution_count": 15,
   "id": "d2f20b28-15d8-458b-b5cd-d167cde34e9f",
   "metadata": {},
   "outputs": [
    {
     "data": {
      "text/plain": [
       "array([-1.56768391, -0.05546738,  0.88436332, -1.62646829,  1.51709877])"
      ]
     },
     "execution_count": 15,
     "metadata": {},
     "output_type": "execute_result"
    }
   ],
   "source": [
    "var2 = np.random.randn(5) #positive or negative\n",
    "var2"
   ]
  },
  {
   "cell_type": "code",
   "execution_count": 16,
   "id": "86763da2-9d9d-4a2a-94f9-cc9b467a74f3",
   "metadata": {},
   "outputs": [
    {
     "data": {
      "text/plain": [
       "array([0.06637375, 0.4205092 , 0.10570364, 0.0347576 ])"
      ]
     },
     "execution_count": 16,
     "metadata": {},
     "output_type": "execute_result"
    }
   ],
   "source": [
    "var3 = np.random.ranf(4)#close to zero less than 1\n",
    "var3"
   ]
  },
  {
   "cell_type": "code",
   "execution_count": 18,
   "id": "6fa2db40-ed82-463c-8c66-84b4d6bf2d0c",
   "metadata": {},
   "outputs": [
    {
     "data": {
      "text/plain": [
       "0"
      ]
     },
     "execution_count": 18,
     "metadata": {},
     "output_type": "execute_result"
    }
   ],
   "source": [
    "var4 = np.random.randint(min,max,total_Values)\n",
    "var4"
   ]
  },
  {
   "cell_type": "code",
   "execution_count": 21,
   "id": "e4769ad9-b7f3-4ec5-bf09-80680dfb76f6",
   "metadata": {},
   "outputs": [
    {
     "data": {
      "text/plain": [
       "array([5, 8, 9, 7, 9], dtype=int32)"
      ]
     },
     "execution_count": 21,
     "metadata": {},
     "output_type": "execute_result"
    }
   ],
   "source": [
    "var4 = np.random.randint(5,20,5)# min and max  with toal valued count\n",
    "var4"
   ]
  },
  {
   "cell_type": "code",
   "execution_count": 24,
   "id": "62c19ccd-97dc-4b75-be18-c6f57dba6ec6",
   "metadata": {},
   "outputs": [
    {
     "name": "stdout",
     "output_type": "stream",
     "text": [
      "Data Type int64\n"
     ]
    }
   ],
   "source": [
    "var = np.array([1,2,3,4])\n",
    "print(\"Data Type\",var.dtype)"
   ]
  },
  {
   "cell_type": "code",
   "execution_count": 26,
   "id": "7d438f20-cd3f-4d01-bce1-470c15c8a391",
   "metadata": {},
   "outputs": [
    {
     "name": "stdout",
     "output_type": "stream",
     "text": [
      "Data Type float64\n"
     ]
    }
   ],
   "source": [
    "var = np.array([1.3,1.2,.53,.24])\n",
    "print(\"Data Type\",var.dtype)"
   ]
  },
  {
   "cell_type": "code",
   "execution_count": 28,
   "id": "fe4ab712-9d8f-4272-a258-11dc950e74a4",
   "metadata": {},
   "outputs": [
    {
     "name": "stdout",
     "output_type": "stream",
     "text": [
      "Data Type <U21\n"
     ]
    }
   ],
   "source": [
    "var = np.array(['a','s','d','f',1,2,3,4])\n",
    "print(\"Data Type\",var.dtype)"
   ]
  },
  {
   "cell_type": "code",
   "execution_count": 33,
   "id": "e9e0a23a-118a-4067-adb2-e6a8c6bae9c4",
   "metadata": {},
   "outputs": [
    {
     "name": "stdout",
     "output_type": "stream",
     "text": [
      "Data Type: int8\n"
     ]
    }
   ],
   "source": [
    "x=np.array([1,2,3,4],dtype = np.int8)\n",
    "print('Data Type:',x.dtype)"
   ]
  },
  {
   "cell_type": "code",
   "execution_count": 34,
   "id": "53cbba8a-a036-47ea-bf71-537652e7bfd4",
   "metadata": {},
   "outputs": [
    {
     "name": "stdout",
     "output_type": "stream",
     "text": [
      "Data Type: float32\n"
     ]
    }
   ],
   "source": [
    "x1=np.array([1,2,3,4],dtype ='f')\n",
    "print('Data Type:',x1.dtype)"
   ]
  },
  {
   "cell_type": "code",
   "execution_count": 36,
   "id": "bbdbd654-e74a-4df6-b419-9153320f1b79",
   "metadata": {},
   "outputs": [
    {
     "name": "stdout",
     "output_type": "stream",
     "text": [
      "Data Type: float32\n",
      "Data Type: int64\n",
      "[1 2 3 4]\n",
      "Data Type: int64\n"
     ]
    }
   ],
   "source": [
    "x2=np.array([1,2,3,4])\n",
    "new = np.float32(x2)\n",
    "new_1 = np.int_(new)\n",
    "print('Data Type:',new.dtype)\n",
    "print('Data Type:',x2.dtype)\n",
    "print(new_1)\n",
    "print('Data Type:',new_1.dtype)"
   ]
  },
  {
   "cell_type": "code",
   "execution_count": 37,
   "id": "af843877-65c9-4902-b785-c3e0add454b8",
   "metadata": {},
   "outputs": [
    {
     "name": "stdout",
     "output_type": "stream",
     "text": [
      "[1 2 3 4]\n",
      "[1. 2. 3. 4.]\n"
     ]
    }
   ],
   "source": [
    "x3=np.array([1,2,3,4])\n",
    "new_1  = x3.astype('f')\n",
    "print(x3)\n",
    "print(new_1)"
   ]
  },
  {
   "cell_type": "code",
   "execution_count": null,
   "id": "a6ba5e7b-a591-43b2-b9a0-36920261038d",
   "metadata": {},
   "outputs": [],
   "source": []
  }
 ],
 "metadata": {
  "kernelspec": {
   "display_name": "Python 3 (ipykernel)",
   "language": "python",
   "name": "python3"
  },
  "language_info": {
   "codemirror_mode": {
    "name": "ipython",
    "version": 3
   },
   "file_extension": ".py",
   "mimetype": "text/x-python",
   "name": "python",
   "nbconvert_exporter": "python",
   "pygments_lexer": "ipython3",
   "version": "3.13.0"
  }
 },
 "nbformat": 4,
 "nbformat_minor": 5
}
