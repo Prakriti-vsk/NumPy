{
 "cells": [
  {
   "cell_type": "code",
   "execution_count": 1,
   "id": "f06757f6-3216-4e18-9631-081bc7a7f438",
   "metadata": {},
   "outputs": [],
   "source": [
    "import numpy as np\n",
    "import pandas as pd"
   ]
  },
  {
   "cell_type": "code",
   "execution_count": 4,
   "id": "a2cf4d0d-20b9-4c97-8558-744d94dc9aa3",
   "metadata": {},
   "outputs": [
    {
     "name": "stdout",
     "output_type": "stream",
     "text": [
      "[2 4 6 8]\n"
     ]
    }
   ],
   "source": [
    "var1 = np.array([1,2,3,4])\n",
    "var2 = np.array([1,2,3,4])\n",
    "print(var1 + var2)"
   ]
  },
  {
   "cell_type": "code",
   "execution_count": 11,
   "id": "9e925b00-b103-4166-ab8c-a17cc44a99eb",
   "metadata": {},
   "outputs": [
    {
     "name": "stdout",
     "output_type": "stream",
     "text": [
      "(3,)\n",
      "\n",
      "(3, 1)\n",
      "\n",
      "[[2 3 4]\n",
      " [3 4 5]\n",
      " [4 5 6]]\n"
     ]
    }
   ],
   "source": [
    "var1 = np.array([1,2,3])\n",
    "print(var1.shape)\n",
    "print()\n",
    "var2 = np.array([[1],[2,],[3]])\n",
    "print(var2.shape)\n",
    "print()\n",
    "print(var1 + var2)\n"
   ]
  },
  {
   "cell_type": "code",
   "execution_count": 14,
   "id": "c994193e-3015-4358-acbb-32f319889f69",
   "metadata": {},
   "outputs": [
    {
     "name": "stdout",
     "output_type": "stream",
     "text": [
      "(2, 1)\n",
      "\n",
      "(2, 3)\n",
      "\n",
      "[[2 3 4]\n",
      " [3 4 5]\n",
      " [4 5 6]]\n"
     ]
    }
   ],
   "source": [
    "x = np.array([[1],[2]])\n",
    "print(x.shape)\n",
    "print()\n",
    "y=np.array([[1,2,3],[1,2,3]])\n",
    "print(y.shape)\n",
    "print()\n",
    "print(var1 + var2)"
   ]
  },
  {
   "cell_type": "markdown",
   "id": "8d32159f-e710-4de1-88d0-0ada2a916711",
   "metadata": {},
   "source": [
    "# Indexing NumPy Array"
   ]
  },
  {
   "cell_type": "code",
   "execution_count": 17,
   "id": "e6867157-f6cc-4dba-92c4-411bd6f68ed3",
   "metadata": {},
   "outputs": [
    {
     "name": "stdout",
     "output_type": "stream",
     "text": [
      "7\n"
     ]
    }
   ],
   "source": [
    "var = np.array([9,7,5,6])\n",
    "#              0,1,2,3\n",
    "#              -3,-2,-1,0\n",
    "print(var[1])"
   ]
  },
  {
   "cell_type": "code",
   "execution_count": 19,
   "id": "ec89d368-58aa-4a36-9df1-84479ff1a35d",
   "metadata": {},
   "outputs": [
    {
     "name": "stdout",
     "output_type": "stream",
     "text": [
      "9\n"
     ]
    }
   ],
   "source": [
    "var = np.array([9,7,5,6])\n",
    "#              0,1,2,3\n",
    "#              -3,-2,-1,0\n",
    "print(var[0])"
   ]
  },
  {
   "cell_type": "code",
   "execution_count": 22,
   "id": "d1b8df84-2633-4486-b161-78dd362da2bf",
   "metadata": {},
   "outputs": [
    {
     "name": "stdout",
     "output_type": "stream",
     "text": [
      "7\n",
      "2\n",
      "\n",
      "8\n",
      "7\n"
     ]
    }
   ],
   "source": [
    "var1 = np.array([[9,8,7],[4,5,6]])\n",
    "print(var[1])\n",
    "print(var1.ndim)\n",
    "print()\n",
    "print(var1[0,1])\n",
    "print(var1[0,2])"
   ]
  },
  {
   "cell_type": "code",
   "execution_count": 23,
   "id": "8881981a-678d-44b5-ac90-458d804309b7",
   "metadata": {},
   "outputs": [
    {
     "name": "stdout",
     "output_type": "stream",
     "text": [
      "[[[1 2]\n",
      "  [1 2]]]\n",
      "3\n"
     ]
    }
   ],
   "source": [
    "var2 = np.array([[[1,2],[1,2]]])\n",
    "print(var2)\n",
    "print(var2.ndim)\n"
   ]
  },
  {
   "cell_type": "code",
   "execution_count": 25,
   "id": "62700664-e13a-4028-870e-4eb568193676",
   "metadata": {},
   "outputs": [
    {
     "name": "stdout",
     "output_type": "stream",
     "text": [
      "[[[1 2]\n",
      "  [6 7]]]\n",
      "3\n",
      "7\n"
     ]
    }
   ],
   "source": [
    "var2 = np.array([[[1,2],[6,7]]])\n",
    "print(var2)\n",
    "print(var2.ndim)\n",
    "print(var2[0,1,1])"
   ]
  },
  {
   "cell_type": "markdown",
   "id": "5866f556-fe6c-4098-9073-86171f8e86ad",
   "metadata": {},
   "source": [
    "# start:stop:step"
   ]
  },
  {
   "cell_type": "code",
   "execution_count": 26,
   "id": "12aad719-359e-4c30-b5ff-540310743036",
   "metadata": {},
   "outputs": [
    {
     "name": "stdout",
     "output_type": "stream",
     "text": [
      "[1 2 3 4 5 6 7]\n",
      "\n",
      "2 to 5 : [2 3 4]\n"
     ]
    }
   ],
   "source": [
    "var = np.array([1,2,3,4,5,6,7])\n",
    "print(var)\n",
    "print()\n",
    "print('2 to 5 :',var[1:4])\n"
   ]
  },
  {
   "cell_type": "code",
   "execution_count": 29,
   "id": "490d39d9-d5fb-407e-85c0-586126069e0b",
   "metadata": {},
   "outputs": [
    {
     "name": "stdout",
     "output_type": "stream",
     "text": [
      "[1 2 3 4 5 6 7]\n",
      "\n",
      "2 to 5 : [2 3 4 5]\n",
      "2 To End : [2 3 4 5 6 7]\n"
     ]
    }
   ],
   "source": [
    "var = np.array([1,2,3,4,5,6,7])\n",
    "print(var)\n",
    "print()\n",
    "print('2 to 5 :',var[1:5])\n",
    "print('2 To End :',var[1:])"
   ]
  },
  {
   "cell_type": "code",
   "execution_count": 33,
   "id": "6063e535-11f0-4455-863a-c1f7e09278c6",
   "metadata": {},
   "outputs": [
    {
     "name": "stdout",
     "output_type": "stream",
     "text": [
      "[1 2 3 4 5 6 7]\n",
      "\n",
      "2 to 5 : [2 3 4 5]\n",
      "2 To End : [1 2 3 4 5]\n",
      "stop : [2 4]\n"
     ]
    }
   ],
   "source": [
    "var = np.array([1,2,3,4,5,6,7])\n",
    "print(var)\n",
    "print()\n",
    "print('2 to 5 :',var[1:5])\n",
    "print('2 To End :',var[:5])\n",
    "print('stop :',var[1:5:2])"
   ]
  },
  {
   "cell_type": "code",
   "execution_count": 34,
   "id": "b30c3cbd-fa23-4712-9b4f-39ad9b83872b",
   "metadata": {},
   "outputs": [
    {
     "name": "stdout",
     "output_type": "stream",
     "text": [
      "[1 2 3 4 5 6 7]\n",
      "\n",
      "2 to 5 : [2 3 4 5]\n",
      "2 To End : [1 2 3 4 5]\n",
      "stop : [1 3 5 7]\n"
     ]
    }
   ],
   "source": [
    "var = np.array([1,2,3,4,5,6,7])\n",
    "print(var)\n",
    "print()\n",
    "print('2 to 5 :',var[1:5])\n",
    "print('2 To End :',var[:5])\n",
    "print('stop :',var[::2])"
   ]
  },
  {
   "cell_type": "code",
   "execution_count": 35,
   "id": "fe334164-b6d6-4cf6-95f4-ad990fd4dbde",
   "metadata": {},
   "outputs": [
    {
     "name": "stdout",
     "output_type": "stream",
     "text": [
      "[1 2 3 4 5 6 7]\n",
      "\n",
      "2 to 5 : [2 3 4 5]\n",
      "2 To End : [1 2 3 4 5]\n",
      "stop : [1 2 3 4 5 6 7]\n"
     ]
    }
   ],
   "source": [
    "var = np.array([1,2,3,4,5,6,7])\n",
    "print(var)\n",
    "print()\n",
    "print('2 to 5 :',var[1:5])\n",
    "print('2 To End :',var[:5])\n",
    "print('stop :',var[::])"
   ]
  },
  {
   "cell_type": "code",
   "execution_count": 36,
   "id": "b4c3a9a0-ed3d-4447-ac1d-a20f05f39a75",
   "metadata": {},
   "outputs": [
    {
     "name": "stdout",
     "output_type": "stream",
     "text": [
      "[1 2 3 4 5 6 7]\n",
      "\n",
      "2 to 5 : [2 3 4 5]\n",
      "2 To End : [1 2 3 4 5]\n",
      "stop : [2 3 4 5 6 7]\n"
     ]
    }
   ],
   "source": [
    "var = np.array([1,2,3,4,5,6,7])\n",
    "print(var)\n",
    "print()\n",
    "print('2 to 5 :',var[1:5])\n",
    "print('2 To End :',var[:5])\n",
    "print('stop :',var[1::])"
   ]
  },
  {
   "cell_type": "code",
   "execution_count": 39,
   "id": "e2e4f8fa-c02e-435e-ae70-a635e413c5fc",
   "metadata": {},
   "outputs": [
    {
     "name": "stdout",
     "output_type": "stream",
     "text": [
      "[[ 1  2  3  4  5]\n",
      " [ 9  8  7  6  5]\n",
      " [11 12 13 14 15]]\n",
      "\n",
      "8 To 5 : [8 7 6 5]\n"
     ]
    }
   ],
   "source": [
    "var1 = np.array([[1,2,3,4,5],[9,8,7,6,5],[11,12,13,14,15]])\n",
    "print(var1)\n",
    "print()\n",
    "print('8 To 5 :',var1[1,1:])"
   ]
  },
  {
   "cell_type": "code",
   "execution_count": 40,
   "id": "c99877ee-0aa3-4b6b-a71e-58512b2e568a",
   "metadata": {},
   "outputs": [
    {
     "name": "stdout",
     "output_type": "stream",
     "text": [
      "[[ 1  2  3  4  5]\n",
      " [ 9  8  7  6  5]\n",
      " [11 12 13 14 15]]\n",
      "\n",
      "8 To 5 : [12 13 14 15]\n"
     ]
    }
   ],
   "source": [
    "var1 = np.array([[1,2,3,4,5],[9,8,7,6,5],[11,12,13,14,15]])\n",
    "print(var1)\n",
    "print()\n",
    "print('8 To 5 :',var1[2,1:])"
   ]
  }
 ],
 "metadata": {
  "kernelspec": {
   "display_name": "Python 3 (ipykernel)",
   "language": "python",
   "name": "python3"
  },
  "language_info": {
   "codemirror_mode": {
    "name": "ipython",
    "version": 3
   },
   "file_extension": ".py",
   "mimetype": "text/x-python",
   "name": "python",
   "nbconvert_exporter": "python",
   "pygments_lexer": "ipython3",
   "version": "3.13.0"
  }
 },
 "nbformat": 4,
 "nbformat_minor": 5
}
