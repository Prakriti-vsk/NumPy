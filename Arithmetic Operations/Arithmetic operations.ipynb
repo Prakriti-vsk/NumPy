{
 "cells": [
  {
   "cell_type": "code",
   "execution_count": 1,
   "id": "94442861-6b1c-4e7c-a5b6-c1e926f38114",
   "metadata": {},
   "outputs": [],
   "source": [
    "import numpy as np\n",
    "import pandas as pd"
   ]
  },
  {
   "cell_type": "code",
   "execution_count": 2,
   "id": "3f49b0b6-b30c-41f1-b51b-2a3844332d84",
   "metadata": {},
   "outputs": [
    {
     "data": {
      "text/plain": [
       "array([4, 5, 6, 7])"
      ]
     },
     "execution_count": 2,
     "metadata": {},
     "output_type": "execute_result"
    }
   ],
   "source": [
    "var = np.array([1,2,3,4])\n",
    "var_Add=var+3\n",
    "var_Add"
   ]
  },
  {
   "cell_type": "code",
   "execution_count": 3,
   "id": "48f97505-ea23-4cac-b9cc-f8f7fa8da72e",
   "metadata": {},
   "outputs": [
    {
     "data": {
      "text/plain": [
       "array([2, 4, 6, 8])"
      ]
     },
     "execution_count": 3,
     "metadata": {},
     "output_type": "execute_result"
    }
   ],
   "source": [
    "var1 = np.array([1,2,3,4])\n",
    "var2 = np.array([1,2,3,4])\n",
    "var_Add=var1+var2\n",
    "var_Add"
   ]
  },
  {
   "cell_type": "code",
   "execution_count": 4,
   "id": "89199af3-be31-4b5f-8379-17f0e6947efb",
   "metadata": {},
   "outputs": [
    {
     "data": {
      "text/plain": [
       "array([0, 0, 0, 0])"
      ]
     },
     "execution_count": 4,
     "metadata": {},
     "output_type": "execute_result"
    }
   ],
   "source": [
    "var1 = np.array([1,2,3,4])\n",
    "var2 = np.array([1,2,3,4])\n",
    "var_Add=var1-var2\n",
    "var_Add"
   ]
  },
  {
   "cell_type": "code",
   "execution_count": 5,
   "id": "e4f9c0ba-db47-4786-8ea5-521b57063e1c",
   "metadata": {},
   "outputs": [
    {
     "data": {
      "text/plain": [
       "array([ 1,  4,  9, 16])"
      ]
     },
     "execution_count": 5,
     "metadata": {},
     "output_type": "execute_result"
    }
   ],
   "source": [
    "var1 = np.array([1,2,3,4])\n",
    "var2 = np.array([1,2,3,4])\n",
    "var_Add=var1*var2\n",
    "var_Add"
   ]
  },
  {
   "cell_type": "code",
   "execution_count": 6,
   "id": "1137b056-4288-4e84-97d1-48b88ccd2a95",
   "metadata": {},
   "outputs": [
    {
     "data": {
      "text/plain": [
       "array([1., 1., 1., 1.])"
      ]
     },
     "execution_count": 6,
     "metadata": {},
     "output_type": "execute_result"
    }
   ],
   "source": [
    "var1 = np.array([1,2,3,4])\n",
    "var2 = np.array([1,2,3,4])\n",
    "var_Add=var1/var2\n",
    "var_Add"
   ]
  },
  {
   "cell_type": "code",
   "execution_count": 9,
   "id": "61ad83cf-a347-4a46-8da6-08da4bd2ec8e",
   "metadata": {},
   "outputs": [
    {
     "data": {
      "text/plain": [
       "array([1, 0, 1, 0])"
      ]
     },
     "execution_count": 9,
     "metadata": {},
     "output_type": "execute_result"
    }
   ],
   "source": [
    "var1 = np.array([1,2,3,4])\n",
    "var2 = np.array([1,2,3,4])\n",
    "var_Add=var1%2\n",
    "var_Add"
   ]
  },
  {
   "cell_type": "code",
   "execution_count": 10,
   "id": "d70131c2-d1fd-430e-83dc-3a85bb8b14a3",
   "metadata": {},
   "outputs": [
    {
     "data": {
      "text/plain": [
       "array([  1,   4,  27, 256])"
      ]
     },
     "execution_count": 10,
     "metadata": {},
     "output_type": "execute_result"
    }
   ],
   "source": [
    "var1 = np.array([1,2,3,4])\n",
    "var2 = np.array([1,2,3,4])\n",
    "var_Add=var1**var2\n",
    "var_Add"
   ]
  },
  {
   "cell_type": "code",
   "execution_count": 11,
   "id": "0caf78c0-13c0-4841-b8bf-651c8989c0e8",
   "metadata": {},
   "outputs": [
    {
     "data": {
      "text/plain": [
       "array([1, 1, 1, 1])"
      ]
     },
     "execution_count": 11,
     "metadata": {},
     "output_type": "execute_result"
    }
   ],
   "source": [
    "var1 = np.array([1,2,3,4])\n",
    "var2 = np.array([1,2,3,4])\n",
    "var_Add=var1//var2\n",
    "var_Add"
   ]
  },
  {
   "cell_type": "code",
   "execution_count": 14,
   "id": "2a788612-4378-4729-8dd5-44b020bc7651",
   "metadata": {},
   "outputs": [
    {
     "data": {
      "text/plain": [
       "array([-8, -7, -6, -5])"
      ]
     },
     "execution_count": 14,
     "metadata": {},
     "output_type": "execute_result"
    }
   ],
   "source": [
    "var1 = np.array([1,2,3,4])\n",
    "var2 = np.array([1,2,3,4])\n",
    "var_Add=var1+-9\n",
    "var_Add"
   ]
  },
  {
   "cell_type": "code",
   "execution_count": 15,
   "id": "ce8a198a-3b9d-4012-9e8f-2d02e2ad3c60",
   "metadata": {},
   "outputs": [
    {
     "data": {
      "text/plain": [
       "array([2, 4, 6, 8])"
      ]
     },
     "execution_count": 15,
     "metadata": {},
     "output_type": "execute_result"
    }
   ],
   "source": [
    "var1 = np.array([1,2,3,4])\n",
    "var2 = np.array([1,2,3,4])\n",
    "var_Add=np.add(var1,var2)\n",
    "var_Add"
   ]
  },
  {
   "cell_type": "code",
   "execution_count": 16,
   "id": "f268d5f5-f4f6-49b5-a619-17652aa726a7",
   "metadata": {},
   "outputs": [
    {
     "data": {
      "text/plain": [
       "array([4, 5, 6, 7])"
      ]
     },
     "execution_count": 16,
     "metadata": {},
     "output_type": "execute_result"
    }
   ],
   "source": [
    "var1 = np.array([1,2,3,4])\n",
    "var2 = np.array([1,2,3,4])\n",
    "var_Add=np.add(var1,3)\n",
    "var_Add"
   ]
  },
  {
   "cell_type": "code",
   "execution_count": 18,
   "id": "70b3b56b-eba4-4b3f-98cb-2bc0a86ceae9",
   "metadata": {},
   "outputs": [
    {
     "data": {
      "text/plain": [
       "array([-2, -1,  0,  1])"
      ]
     },
     "execution_count": 18,
     "metadata": {},
     "output_type": "execute_result"
    }
   ],
   "source": [
    "var1 = np.array([1,2,3,4])\n",
    "var2 = np.array([1,2,3,4])\n",
    "var_Add=np.subtract(var1,3)\n",
    "var_Add"
   ]
  },
  {
   "cell_type": "code",
   "execution_count": 21,
   "id": "11cfbab7-6d21-4a0c-aa3e-0d62281d2daa",
   "metadata": {},
   "outputs": [
    {
     "data": {
      "text/plain": [
       "array([0.33333333, 0.66666667, 1.        , 1.33333333])"
      ]
     },
     "execution_count": 21,
     "metadata": {},
     "output_type": "execute_result"
    }
   ],
   "source": [
    "var1 = np.array([1,2,3,4])\n",
    "var2 = np.array([1,2,3,4])\n",
    "var_Add=np.divide(var1,3)\n",
    "var_Add"
   ]
  },
  {
   "cell_type": "code",
   "execution_count": 23,
   "id": "15ab42f6-378e-4224-a697-5f91da48dc78",
   "metadata": {},
   "outputs": [
    {
     "data": {
      "text/plain": [
       "array([1, 2, 0, 1])"
      ]
     },
     "execution_count": 23,
     "metadata": {},
     "output_type": "execute_result"
    }
   ],
   "source": [
    "var1 = np.array([1,2,3,4])\n",
    "var2 = np.array([1,2,3,4])\n",
    "var_Add=np.mod(var1,3)\n",
    "var_Add"
   ]
  },
  {
   "cell_type": "code",
   "execution_count": 25,
   "id": "2b1650d5-4990-4b28-8ced-5adb9a3fccb2",
   "metadata": {},
   "outputs": [
    {
     "data": {
      "text/plain": [
       "array([1, 0, 0, 0])"
      ]
     },
     "execution_count": 25,
     "metadata": {},
     "output_type": "execute_result"
    }
   ],
   "source": [
    "var1 = np.array([1,2,3,4])\n",
    "var2 = np.array([1,2,3,4])\n",
    "var_Add=np.reciprocal(var1)\n",
    "var_Add"
   ]
  },
  {
   "cell_type": "code",
   "execution_count": 26,
   "id": "d4ddd9dc-8721-435a-b821-4ce4914d96db",
   "metadata": {},
   "outputs": [
    {
     "data": {
      "text/plain": [
       "array([ 1,  8, 27, 64])"
      ]
     },
     "execution_count": 26,
     "metadata": {},
     "output_type": "execute_result"
    }
   ],
   "source": [
    "var1 = np.array([1,2,3,4])\n",
    "var2 = np.array([1,2,3,4])\n",
    "var_Add=np.power(var1,3)\n",
    "var_Add"
   ]
  },
  {
   "cell_type": "code",
   "execution_count": 29,
   "id": "3a8b4549-3f54-453b-ac92-dcafcaf3b603",
   "metadata": {},
   "outputs": [
    {
     "data": {
      "text/plain": [
       "array([[ 2, 10,  6,  8],\n",
       "       [ 2,  4,  6,  8]])"
      ]
     },
     "execution_count": 29,
     "metadata": {},
     "output_type": "execute_result"
    }
   ],
   "source": [
    "var21 = np.array([[1,5,3,4],[1,2,3,4]])\n",
    "var22 = np.array([[1,5,3,4],[1,2,3,4]])\n",
    "var_Add=np.add(var21,var22)\n",
    "var_Add"
   ]
  },
  {
   "cell_type": "code",
   "execution_count": 31,
   "id": "8118796d-6396-4076-9be3-e1611ac934ea",
   "metadata": {},
   "outputs": [
    {
     "name": "stdout",
     "output_type": "stream",
     "text": [
      "[[1 2 3 4]\n",
      " [1 2 3 4]]\n",
      "\n",
      "[[1 2 3 4]\n",
      " [1 2 3 4]]\n",
      "\n",
      "[[2 4 6 8]\n",
      " [2 4 6 8]]\n"
     ]
    }
   ],
   "source": [
    "var1 = np.array([[1,2,3,4],[1,2,3,4]])\n",
    "var2 = np.array([[1,2,3,4],[1,2,3,4]])\n",
    "print(var1)\n",
    "print()\n",
    "print(var2)\n",
    "print()\n",
    "\n",
    "varadd2=(var1+var2)\n",
    "print(varadd2)"
   ]
  },
  {
   "cell_type": "code",
   "execution_count": 33,
   "id": "2058b593-5eb9-4ebd-93bf-ff3d47ebcaa6",
   "metadata": {},
   "outputs": [
    {
     "name": "stdout",
     "output_type": "stream",
     "text": [
      "[[1 2 3 4]\n",
      " [1 2 3 4]]\n",
      "\n",
      "[[1 2 3 4]\n",
      " [1 2 3 4]]\n",
      "\n",
      "[[0 0 0 0]\n",
      " [0 0 0 0]]\n"
     ]
    }
   ],
   "source": [
    "var1 = np.array([[1,2,3,4],[1,2,3,4]])\n",
    "var2 = np.array([[1,2,3,4],[1,2,3,4]])\n",
    "print(var1)\n",
    "print()\n",
    "print(var2)\n",
    "print()\n",
    "\n",
    "varadd2=(var1%var2)\n",
    "print(varadd2)"
   ]
  },
  {
   "cell_type": "code",
   "execution_count": 35,
   "id": "987f3413-20d1-4063-83c5-ada9b8b2ed2a",
   "metadata": {},
   "outputs": [
    {
     "data": {
      "text/plain": [
       "array([1, 0, 0, 0])"
      ]
     },
     "execution_count": 35,
     "metadata": {},
     "output_type": "execute_result"
    }
   ],
   "source": [
    "var = np.array([1,2,3,4])\n",
    "varadd = np.reciprocal(var)\n",
    "varadd"
   ]
  },
  {
   "cell_type": "code",
   "execution_count": 36,
   "id": "38697e0f-8bb4-4857-9959-63079bf0b925",
   "metadata": {},
   "outputs": [
    {
     "name": "stdout",
     "output_type": "stream",
     "text": [
      "min 1\n"
     ]
    }
   ],
   "source": [
    "var = np.array([1,2,3,4,5,3,2])\n",
    "print('min',np.min(var))"
   ]
  },
  {
   "cell_type": "code",
   "execution_count": 37,
   "id": "9f43e30e-c0bb-4c76-a375-cb561608a469",
   "metadata": {},
   "outputs": [
    {
     "name": "stdout",
     "output_type": "stream",
     "text": [
      "max 5\n"
     ]
    }
   ],
   "source": [
    "var = np.array([1,2,3,4,5,3,2])\n",
    "print('max',np.max(var))"
   ]
  },
  {
   "cell_type": "code",
   "execution_count": 38,
   "id": "5379c1dc-d4f0-479e-aeae-072063ae1395",
   "metadata": {},
   "outputs": [
    {
     "name": "stdout",
     "output_type": "stream",
     "text": [
      "min 1 0\n"
     ]
    }
   ],
   "source": [
    "var = np.array([1,2,3,4,5,3,2])\n",
    "print('min',np.min(var),np.argmin(var))"
   ]
  },
  {
   "cell_type": "code",
   "execution_count": 52,
   "id": "4639b191-d83e-4715-8c30-314ac9d9db62",
   "metadata": {},
   "outputs": [
    {
     "name": "stdout",
     "output_type": "stream",
     "text": [
      "min 1 2\n",
      "max 5 4\n"
     ]
    }
   ],
   "source": [
    "var = np.array([3,2,1,4,5,3,2])\n",
    "print('min',np.min(var),np.argmin(var))\n",
    "var = np.array([1,2,3,4,5,3,2])\n",
    "print('max',np.max(var),np.argmax(var))"
   ]
  },
  {
   "cell_type": "code",
   "execution_count": 53,
   "id": "17ca6a1a-e993-4b60-9609-344ca4978e9f",
   "metadata": {},
   "outputs": [
    {
     "name": "stdout",
     "output_type": "stream",
     "text": [
      "[1 2 3]\n"
     ]
    }
   ],
   "source": [
    "var1 = ([[1,2,3,],[4,5,6]])\n",
    "print(np.min(var1,axis=0))"
   ]
  },
  {
   "cell_type": "code",
   "execution_count": 54,
   "id": "7903e0d5-7bd0-47ea-904e-1903a80289da",
   "metadata": {},
   "outputs": [
    {
     "name": "stdout",
     "output_type": "stream",
     "text": [
      "[1 5]\n"
     ]
    }
   ],
   "source": [
    "var1 = ([[2,1,3,],[9,5,6]])\n",
    "print(np.min(var1,axis=1))"
   ]
  },
  {
   "cell_type": "code",
   "execution_count": 56,
   "id": "fdf56236-5c45-4a5e-a539-57de9f7b728d",
   "metadata": {},
   "outputs": [
    {
     "name": "stdout",
     "output_type": "stream",
     "text": [
      "[9 5 6]\n"
     ]
    }
   ],
   "source": [
    "var1 = ([[2,1,3,],[9,5,6]])\n",
    "print(np.max(var1,axis=0))"
   ]
  },
  {
   "cell_type": "code",
   "execution_count": 57,
   "id": "3a37f6b1-63fa-423f-8d43-46e864e94785",
   "metadata": {},
   "outputs": [
    {
     "name": "stdout",
     "output_type": "stream",
     "text": [
      "min 1 2\n",
      "max 5 4\n",
      "sqrt [1.         1.41421356 1.73205081 2.         2.23606798 1.73205081\n",
      " 1.41421356]\n"
     ]
    }
   ],
   "source": [
    "var = np.array([3,2,1,4,5,3,2])\n",
    "\n",
    "print('min',np.min(var),np.argmin(var))\n",
    "\n",
    "var = np.array([1,2,3,4,5,3,2])\n",
    "\n",
    "print('max',np.max(var),np.argmax(var))\n",
    "\n",
    "print('sqrt',np.sqrt(var))"
   ]
  },
  {
   "cell_type": "code",
   "execution_count": 58,
   "id": "0f53950d-8023-4d17-8053-d963975f4567",
   "metadata": {},
   "outputs": [
    {
     "name": "stdout",
     "output_type": "stream",
     "text": [
      "0.9092974268256817\n"
     ]
    }
   ],
   "source": [
    "var2 = np.array([1,2,3])\n",
    "print(np.sin(2))"
   ]
  },
  {
   "cell_type": "code",
   "execution_count": 59,
   "id": "e12dae26-7aad-470c-b834-996a6ff40ac4",
   "metadata": {},
   "outputs": [
    {
     "name": "stdout",
     "output_type": "stream",
     "text": [
      "-0.4161468365471424\n"
     ]
    }
   ],
   "source": [
    "var2 = np.array([1,2,3])\n",
    "print(np.cos(2))"
   ]
  },
  {
   "cell_type": "code",
   "execution_count": 61,
   "id": "6eeba98e-f9bc-449e-86b6-c4a8cdb6454e",
   "metadata": {},
   "outputs": [
    {
     "name": "stdout",
     "output_type": "stream",
     "text": [
      "0.9092974268256817\n",
      "[ 1  3  6 10]\n"
     ]
    }
   ],
   "source": [
    "var2 = np.array([1,2,3,4])\n",
    "print(np.sin(2))\n",
    "print(np.cumsum(var2))"
   ]
  },
  {
   "cell_type": "code",
   "execution_count": null,
   "id": "8799d357-ea9e-4b68-a894-e1cbae319fed",
   "metadata": {},
   "outputs": [],
   "source": []
  }
 ],
 "metadata": {
  "kernelspec": {
   "display_name": "Python 3 (ipykernel)",
   "language": "python",
   "name": "python3"
  },
  "language_info": {
   "codemirror_mode": {
    "name": "ipython",
    "version": 3
   },
   "file_extension": ".py",
   "mimetype": "text/x-python",
   "name": "python",
   "nbconvert_exporter": "python",
   "pygments_lexer": "ipython3",
   "version": "3.13.0"
  }
 },
 "nbformat": 4,
 "nbformat_minor": 5
}
